{
 "cells": [
  {
   "cell_type": "code",
   "execution_count": 6,
   "metadata": {
    "collapsed": false,
    "deletable": true,
    "editable": true
   },
   "outputs": [
    {
     "name": "stdout",
     "output_type": "stream",
     "text": [
      "samples is of length: 384\n"
     ]
    }
   ],
   "source": [
    "import csv\n",
    "import numpy as np\n",
    "from random import shuffle\n",
    "import matplotlib.image as mpimg\n",
    "import sklearn\n",
    "\n",
    "import cv2\n",
    "import matplotlib.pyplot as plt\n",
    "\n",
    "\n",
    "samples = []\n",
    "images = []\n",
    "images1 = []\n",
    "measurements = []\n",
    "\n",
    "# Steering angle correction in order to add left and right pictures. \n",
    "# Maximum angle is 25 degrees so we want a float multiplying that number\n",
    "# It seems the difference between side and center pictures is about 20 degrees\n",
    "# that would imply a float multiplier of 0.8 for the side pictures if we wanted immediate correction\n",
    "# However 0.8 seems too much so we'll start with lower than that\n",
    "corrections = ['0.0', '0.1', '-0.1']\n",
    "\n",
    "with open('data/small_driving_log.csv') as csvfile:\n",
    "    reader = csv.reader(csvfile)\n",
    "    for line in reader:\n",
    "        center_info = [line[0], line[3], corrections[0]]\n",
    "        left_info = [line[1], line[3], corrections[1]]\n",
    "        right_info = [line[2], line[3], corrections[2]]\n",
    "        samples.append(center_info)\n",
    "        samples.append(left_info)\n",
    "        samples.append(right_info)\n",
    "    \n",
    "print(\"samples is of length:\",len(samples))"
   ]
  },
  {
   "cell_type": "markdown",
   "metadata": {
    "deletable": true,
    "editable": true
   },
   "source": [
    "### Hello World"
   ]
  },
  {
   "cell_type": "code",
   "execution_count": 7,
   "metadata": {
    "collapsed": false,
    "deletable": true,
    "editable": true
   },
   "outputs": [
    {
     "name": "stdout",
     "output_type": "stream",
     "text": [
      "images is of length 384\n",
      "images1 is of length 384\n"
     ]
    }
   ],
   "source": [
    "from sklearn.model_selection import train_test_split\n",
    "train_samples, validation_samples = train_test_split(samples, test_size=0.2)\n",
    "\n",
    "for line in samples:\n",
    "    source_path = line[0]\n",
    "    filename = source_path.split('/')[-1]\n",
    "    current_path = 'data/IMG/' + filename\n",
    "    image1 = cv2.imread(current_path)\n",
    "    image = mpimg.imread(current_path)\n",
    "    images.append(image)\n",
    "    images1.append(image1)\n",
    "    measurement = float(line[1]) + float(line[2])\n",
    "    measurements.append(measurement)\n",
    "\n",
    "print(\"images is of length\", len(images))\n",
    "print(\"images1 is of length\", len(images1))"
   ]
  },
  {
   "cell_type": "code",
   "execution_count": 11,
   "metadata": {
    "collapsed": false
   },
   "outputs": [
    {
     "name": "stdout",
     "output_type": "stream",
     "text": [
      "images is of length [130 163 208]\n",
      "images1 is of length [208 163 130]\n"
     ]
    }
   ],
   "source": [
    "print(\"images is of length\", images[0][0][0])\n",
    "print(\"images1 is of length\", images1[0][0][0])"
   ]
  },
  {
   "cell_type": "code",
   "execution_count": null,
   "metadata": {
    "collapsed": true
   },
   "outputs": [],
   "source": [
    "X_train = np.array(images)\n",
    "print('X_train shape is', X_train.shape)\n",
    "#print('X_train[0] shape is', X_train[0])\n",
    "y_train = np.array(measurements) \n",
    "print('y_train shape is', y_train.shape)\n",
    "print('Some of the first values of y_train are\\n', y_train[49:99])\n",
    "\n",
    "\n",
    "from keras.models import Sequential\n",
    "from keras.layers import Flatten, Dense\n",
    "\n",
    "model = Sequential()\n",
    "model.add(Flatten(input_shape=(160,320,3)))\n",
    "model.add(Dense(1))\n",
    "    \n",
    "model.compile(loss='mse', optimizer='adam')\n",
    "model.fit(X_train, y_train, validation_split=0.2, shuffle=True, nb_epoch=1)\n",
    "\n",
    "model.save('model.h5')"
   ]
  }
 ],
 "metadata": {
  "anaconda-cloud": {},
  "kernelspec": {
   "display_name": "Python 3",
   "language": "python",
   "name": "python3"
  },
  "language_info": {
   "codemirror_mode": {
    "name": "ipython",
    "version": 3
   },
   "file_extension": ".py",
   "mimetype": "text/x-python",
   "name": "python",
   "nbconvert_exporter": "python",
   "pygments_lexer": "ipython3",
   "version": "3.5.2"
  },
  "widgets": {
   "state": {},
   "version": "1.1.2"
  }
 },
 "nbformat": 4,
 "nbformat_minor": 0
}
